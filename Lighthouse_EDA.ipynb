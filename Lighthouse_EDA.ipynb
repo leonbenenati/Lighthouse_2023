{
  "nbformat": 4,
  "nbformat_minor": 0,
  "metadata": {
    "colab": {
      "provenance": [],
      "authorship_tag": "ABX9TyPDk1jx+v0Ypj3qr1JGvroW",
      "include_colab_link": true
    },
    "kernelspec": {
      "name": "python3",
      "display_name": "Python 3"
    },
    "language_info": {
      "name": "python"
    }
  },
  "cells": [
    {
      "cell_type": "markdown",
      "metadata": {
        "id": "view-in-github",
        "colab_type": "text"
      },
      "source": [
        "<a href=\"https://colab.research.google.com/github/leonbenenati/leon_Lighthouse_2023/blob/main/Lighthouse_EDA.ipynb\" target=\"_parent\"><img src=\"https://colab.research.google.com/assets/colab-badge.svg\" alt=\"Open In Colab\"/></a>"
      ]
    },
    {
      "cell_type": "markdown",
      "source": [
        "# Carregando pacotes iniciais"
      ],
      "metadata": {
        "id": "Oi6o6CBSMFWj"
      }
    },
    {
      "cell_type": "code",
      "execution_count": null,
      "metadata": {
        "id": "wWmvw6J9MAiG"
      },
      "outputs": [],
      "source": [
        "import pandas as pd\n",
        "import numpy as np\n",
        "\n",
        "import matplotlib.pyplot as plt\n",
        "import seaborn as sns\n",
        "\n",
        "plt.style.use(\"ggplot\")"
      ]
    },
    {
      "cell_type": "code",
      "source": [
        "df = pd.read_csv(\"/content/desafio_manutencao_preditiva_treino.csv\")\n",
        "df.head()"
      ],
      "metadata": {
        "colab": {
          "base_uri": "https://localhost:8080/",
          "height": 206
        },
        "id": "eOk8kFOLMWcU",
        "outputId": "52658ffc-c1b5-4a8c-e93b-fa8c4d230162"
      },
      "execution_count": null,
      "outputs": [
        {
          "output_type": "execute_result",
          "data": {
            "text/plain": [
              "   udi product_id type  air_temperature_k  process_temperature_k  \\\n",
              "0    1     M14860    M              298.1                  308.6   \n",
              "1    2     L47181    L              298.2                  308.7   \n",
              "2    5     L47184    L              298.2                  308.7   \n",
              "3    6     M14865    M              298.1                  308.6   \n",
              "4    7     L47186    L              298.1                  308.6   \n",
              "\n",
              "   rotational_speed_rpm  torque_nm  tool_wear_min failure_type  \n",
              "0                  1551       42.8              0   No Failure  \n",
              "1                  1408       46.3              3   No Failure  \n",
              "2                  1408       40.0              9   No Failure  \n",
              "3                  1425       41.9             11   No Failure  \n",
              "4                  1558       42.4             14   No Failure  "
            ],
            "text/html": [
              "\n",
              "  <div id=\"df-ebe134bc-259a-4bc4-ad70-f841f97a2ba0\">\n",
              "    <div class=\"colab-df-container\">\n",
              "      <div>\n",
              "<style scoped>\n",
              "    .dataframe tbody tr th:only-of-type {\n",
              "        vertical-align: middle;\n",
              "    }\n",
              "\n",
              "    .dataframe tbody tr th {\n",
              "        vertical-align: top;\n",
              "    }\n",
              "\n",
              "    .dataframe thead th {\n",
              "        text-align: right;\n",
              "    }\n",
              "</style>\n",
              "<table border=\"1\" class=\"dataframe\">\n",
              "  <thead>\n",
              "    <tr style=\"text-align: right;\">\n",
              "      <th></th>\n",
              "      <th>udi</th>\n",
              "      <th>product_id</th>\n",
              "      <th>type</th>\n",
              "      <th>air_temperature_k</th>\n",
              "      <th>process_temperature_k</th>\n",
              "      <th>rotational_speed_rpm</th>\n",
              "      <th>torque_nm</th>\n",
              "      <th>tool_wear_min</th>\n",
              "      <th>failure_type</th>\n",
              "    </tr>\n",
              "  </thead>\n",
              "  <tbody>\n",
              "    <tr>\n",
              "      <th>0</th>\n",
              "      <td>1</td>\n",
              "      <td>M14860</td>\n",
              "      <td>M</td>\n",
              "      <td>298.1</td>\n",
              "      <td>308.6</td>\n",
              "      <td>1551</td>\n",
              "      <td>42.8</td>\n",
              "      <td>0</td>\n",
              "      <td>No Failure</td>\n",
              "    </tr>\n",
              "    <tr>\n",
              "      <th>1</th>\n",
              "      <td>2</td>\n",
              "      <td>L47181</td>\n",
              "      <td>L</td>\n",
              "      <td>298.2</td>\n",
              "      <td>308.7</td>\n",
              "      <td>1408</td>\n",
              "      <td>46.3</td>\n",
              "      <td>3</td>\n",
              "      <td>No Failure</td>\n",
              "    </tr>\n",
              "    <tr>\n",
              "      <th>2</th>\n",
              "      <td>5</td>\n",
              "      <td>L47184</td>\n",
              "      <td>L</td>\n",
              "      <td>298.2</td>\n",
              "      <td>308.7</td>\n",
              "      <td>1408</td>\n",
              "      <td>40.0</td>\n",
              "      <td>9</td>\n",
              "      <td>No Failure</td>\n",
              "    </tr>\n",
              "    <tr>\n",
              "      <th>3</th>\n",
              "      <td>6</td>\n",
              "      <td>M14865</td>\n",
              "      <td>M</td>\n",
              "      <td>298.1</td>\n",
              "      <td>308.6</td>\n",
              "      <td>1425</td>\n",
              "      <td>41.9</td>\n",
              "      <td>11</td>\n",
              "      <td>No Failure</td>\n",
              "    </tr>\n",
              "    <tr>\n",
              "      <th>4</th>\n",
              "      <td>7</td>\n",
              "      <td>L47186</td>\n",
              "      <td>L</td>\n",
              "      <td>298.1</td>\n",
              "      <td>308.6</td>\n",
              "      <td>1558</td>\n",
              "      <td>42.4</td>\n",
              "      <td>14</td>\n",
              "      <td>No Failure</td>\n",
              "    </tr>\n",
              "  </tbody>\n",
              "</table>\n",
              "</div>\n",
              "      <button class=\"colab-df-convert\" onclick=\"convertToInteractive('df-ebe134bc-259a-4bc4-ad70-f841f97a2ba0')\"\n",
              "              title=\"Convert this dataframe to an interactive table.\"\n",
              "              style=\"display:none;\">\n",
              "        \n",
              "  <svg xmlns=\"http://www.w3.org/2000/svg\" height=\"24px\"viewBox=\"0 0 24 24\"\n",
              "       width=\"24px\">\n",
              "    <path d=\"M0 0h24v24H0V0z\" fill=\"none\"/>\n",
              "    <path d=\"M18.56 5.44l.94 2.06.94-2.06 2.06-.94-2.06-.94-.94-2.06-.94 2.06-2.06.94zm-11 1L8.5 8.5l.94-2.06 2.06-.94-2.06-.94L8.5 2.5l-.94 2.06-2.06.94zm10 10l.94 2.06.94-2.06 2.06-.94-2.06-.94-.94-2.06-.94 2.06-2.06.94z\"/><path d=\"M17.41 7.96l-1.37-1.37c-.4-.4-.92-.59-1.43-.59-.52 0-1.04.2-1.43.59L10.3 9.45l-7.72 7.72c-.78.78-.78 2.05 0 2.83L4 21.41c.39.39.9.59 1.41.59.51 0 1.02-.2 1.41-.59l7.78-7.78 2.81-2.81c.8-.78.8-2.07 0-2.86zM5.41 20L4 18.59l7.72-7.72 1.47 1.35L5.41 20z\"/>\n",
              "  </svg>\n",
              "      </button>\n",
              "      \n",
              "  <style>\n",
              "    .colab-df-container {\n",
              "      display:flex;\n",
              "      flex-wrap:wrap;\n",
              "      gap: 12px;\n",
              "    }\n",
              "\n",
              "    .colab-df-convert {\n",
              "      background-color: #E8F0FE;\n",
              "      border: none;\n",
              "      border-radius: 50%;\n",
              "      cursor: pointer;\n",
              "      display: none;\n",
              "      fill: #1967D2;\n",
              "      height: 32px;\n",
              "      padding: 0 0 0 0;\n",
              "      width: 32px;\n",
              "    }\n",
              "\n",
              "    .colab-df-convert:hover {\n",
              "      background-color: #E2EBFA;\n",
              "      box-shadow: 0px 1px 2px rgba(60, 64, 67, 0.3), 0px 1px 3px 1px rgba(60, 64, 67, 0.15);\n",
              "      fill: #174EA6;\n",
              "    }\n",
              "\n",
              "    [theme=dark] .colab-df-convert {\n",
              "      background-color: #3B4455;\n",
              "      fill: #D2E3FC;\n",
              "    }\n",
              "\n",
              "    [theme=dark] .colab-df-convert:hover {\n",
              "      background-color: #434B5C;\n",
              "      box-shadow: 0px 1px 3px 1px rgba(0, 0, 0, 0.15);\n",
              "      filter: drop-shadow(0px 1px 2px rgba(0, 0, 0, 0.3));\n",
              "      fill: #FFFFFF;\n",
              "    }\n",
              "  </style>\n",
              "\n",
              "      <script>\n",
              "        const buttonEl =\n",
              "          document.querySelector('#df-ebe134bc-259a-4bc4-ad70-f841f97a2ba0 button.colab-df-convert');\n",
              "        buttonEl.style.display =\n",
              "          google.colab.kernel.accessAllowed ? 'block' : 'none';\n",
              "\n",
              "        async function convertToInteractive(key) {\n",
              "          const element = document.querySelector('#df-ebe134bc-259a-4bc4-ad70-f841f97a2ba0');\n",
              "          const dataTable =\n",
              "            await google.colab.kernel.invokeFunction('convertToInteractive',\n",
              "                                                     [key], {});\n",
              "          if (!dataTable) return;\n",
              "\n",
              "          const docLinkHtml = 'Like what you see? Visit the ' +\n",
              "            '<a target=\"_blank\" href=https://colab.research.google.com/notebooks/data_table.ipynb>data table notebook</a>'\n",
              "            + ' to learn more about interactive tables.';\n",
              "          element.innerHTML = '';\n",
              "          dataTable['output_type'] = 'display_data';\n",
              "          await google.colab.output.renderOutput(dataTable, element);\n",
              "          const docLink = document.createElement('div');\n",
              "          docLink.innerHTML = docLinkHtml;\n",
              "          element.appendChild(docLink);\n",
              "        }\n",
              "      </script>\n",
              "    </div>\n",
              "  </div>\n",
              "  "
            ]
          },
          "metadata": {},
          "execution_count": 3
        }
      ]
    },
    {
      "cell_type": "code",
      "source": [
        "df.shape"
      ],
      "metadata": {
        "colab": {
          "base_uri": "https://localhost:8080/"
        },
        "id": "YG78iXBcPyJQ",
        "outputId": "fd6becf8-af72-4cad-ff57-57b6bb2c960e"
      },
      "execution_count": null,
      "outputs": [
        {
          "output_type": "execute_result",
          "data": {
            "text/plain": [
              "(6667, 9)"
            ]
          },
          "metadata": {},
          "execution_count": 25
        }
      ]
    },
    {
      "cell_type": "code",
      "source": [
        "df.info()"
      ],
      "metadata": {
        "colab": {
          "base_uri": "https://localhost:8080/"
        },
        "id": "MO73oFfCOSkN",
        "outputId": "083119ff-ebed-4900-e757-56125e7ae7ba"
      },
      "execution_count": null,
      "outputs": [
        {
          "output_type": "stream",
          "name": "stdout",
          "text": [
            "<class 'pandas.core.frame.DataFrame'>\n",
            "RangeIndex: 6667 entries, 0 to 6666\n",
            "Data columns (total 9 columns):\n",
            " #   Column                 Non-Null Count  Dtype  \n",
            "---  ------                 --------------  -----  \n",
            " 0   udi                    6667 non-null   int64  \n",
            " 1   product_id             6667 non-null   object \n",
            " 2   type                   6667 non-null   object \n",
            " 3   air_temperature_k      6667 non-null   float64\n",
            " 4   process_temperature_k  6667 non-null   float64\n",
            " 5   rotational_speed_rpm   6667 non-null   int64  \n",
            " 6   torque_nm              6667 non-null   float64\n",
            " 7   tool_wear_min          6667 non-null   int64  \n",
            " 8   failure_type           6667 non-null   object \n",
            "dtypes: float64(3), int64(3), object(3)\n",
            "memory usage: 468.9+ KB\n"
          ]
        }
      ]
    },
    {
      "cell_type": "code",
      "source": [
        "df.isnull().sum()"
      ],
      "metadata": {
        "colab": {
          "base_uri": "https://localhost:8080/"
        },
        "id": "L6lU59xrOVkA",
        "outputId": "60d3c33e-2926-4703-d69a-6bf4e1bac5c6"
      },
      "execution_count": null,
      "outputs": [
        {
          "output_type": "execute_result",
          "data": {
            "text/plain": [
              "udi                      0\n",
              "product_id               0\n",
              "type                     0\n",
              "air_temperature_k        0\n",
              "process_temperature_k    0\n",
              "rotational_speed_rpm     0\n",
              "torque_nm                0\n",
              "tool_wear_min            0\n",
              "failure_type             0\n",
              "dtype: int64"
            ]
          },
          "metadata": {},
          "execution_count": 10
        }
      ]
    },
    {
      "cell_type": "markdown",
      "source": [
        "Não há valores faltantes"
      ],
      "metadata": {
        "id": "anYVPEOjOb0M"
      }
    },
    {
      "cell_type": "markdown",
      "source": [
        "Verificar valores únicos de cada coluna"
      ],
      "metadata": {
        "id": "mCTvWRH_M4Ze"
      }
    },
    {
      "cell_type": "code",
      "source": [
        "for column in df.columns:\n",
        "  print(f'{column} possui {df[column].nunique()} valores unicos')\n",
        "  print('------------------------------------------------------')"
      ],
      "metadata": {
        "colab": {
          "base_uri": "https://localhost:8080/"
        },
        "id": "l8lyblUfM1Va",
        "outputId": "a2d39d4c-8436-45bb-aa73-e205f872c0d5"
      },
      "execution_count": null,
      "outputs": [
        {
          "output_type": "stream",
          "name": "stdout",
          "text": [
            "udi possui 6667 valores unicos\n",
            "------------------------------------------------------\n",
            "product_id possui 6667 valores unicos\n",
            "------------------------------------------------------\n",
            "type possui 3 valores unicos\n",
            "------------------------------------------------------\n",
            "air_temperature_k possui 93 valores unicos\n",
            "------------------------------------------------------\n",
            "process_temperature_k possui 82 valores unicos\n",
            "------------------------------------------------------\n",
            "rotational_speed_rpm possui 840 valores unicos\n",
            "------------------------------------------------------\n",
            "torque_nm possui 547 valores unicos\n",
            "------------------------------------------------------\n",
            "tool_wear_min possui 243 valores unicos\n",
            "------------------------------------------------------\n",
            "failure_type possui 6 valores unicos\n",
            "------------------------------------------------------\n"
          ]
        }
      ]
    },
    {
      "cell_type": "markdown",
      "source": [
        "# EDA"
      ],
      "metadata": {
        "id": "w8cUI3JDPUWT"
      }
    },
    {
      "cell_type": "markdown",
      "source": [
        "Na EDA as váriaveis serão analisadas separadamente e em relação a variável de interesse que é failure_type\n",
        "\n",
        "Para as variáveis categóricas irá ser utilizados graficos de barras\n",
        "\n",
        "As variáveis númericas serão mostrada em histogramas\n",
        "\n",
        "Para failure_type será utilizado gráfico de barras para verificar o balanceamento de classes\n",
        "\n",
        "Por ultimo uma correlação das variáveis será feita"
      ],
      "metadata": {
        "id": "nId1A34erh6e"
      }
    },
    {
      "cell_type": "markdown",
      "source": [
        "## Tipos de falhas"
      ],
      "metadata": {
        "id": "MTIgj26MXcb9"
      }
    },
    {
      "cell_type": "code",
      "source": [
        "plt.figure(figsize=(15,6))\n",
        "sns.countplot(x=df[\"failure_type\"])"
      ],
      "metadata": {
        "colab": {
          "base_uri": "https://localhost:8080/",
          "height": 408
        },
        "id": "LzDhj7_oQWsj",
        "outputId": "a40dd585-75d6-4af1-b3d6-abd525f1d6d9"
      },
      "execution_count": null,
      "outputs": [
        {
          "output_type": "execute_result",
          "data": {
            "text/plain": [
              "<matplotlib.axes._subplots.AxesSubplot at 0x7fb9157ee700>"
            ]
          },
          "metadata": {},
          "execution_count": 28
        },
        {
          "output_type": "display_data",
          "data": {
            "text/plain": [
              "<Figure size 1080x432 with 1 Axes>"
            ],
            "image/png": "[encoded data removed]"
          },
          "metadata": {}
        }
      ]
    },
    {
      "cell_type": "code",
      "source": [
        "dist = df['failure_type'].value_counts(normalize = True)\n",
        "print(dist)"
      ],
      "metadata": {
        "colab": {
          "base_uri": "https://localhost:8080/"
        },
        "id": "O1P-uVy8VfTG",
        "outputId": "3bef2d53-49a6-4dcc-9815-14384c2dc47b"
      },
      "execution_count": null,
      "outputs": [
        {
          "output_type": "stream",
          "name": "stdout",
          "text": [
            "No Failure                  0.965202\n",
            "Heat Dissipation Failure    0.011249\n",
            "Power Failure               0.009450\n",
            "Overstrain Failure          0.007800\n",
            "Tool Wear Failure           0.004500\n",
            "Random Failures             0.001800\n",
            "Name: failure_type, dtype: float64\n"
          ]
        }
      ]
    },
    {
      "cell_type": "markdown",
      "source": [
        "\n",
        "*   Sem falhas representa mais de 96% da base\n",
        "*   Menos de 4% da base apresenta falhas por 5 diferentes causas\n",
        "*   Os dados estão desbalanceados, como esperado tem muito mais máquinas que não falham do que falham"
      ],
      "metadata": {
        "id": "iHb7evJYVzPj"
      }
    },
    {
      "cell_type": "markdown",
      "source": [
        "## tipos de equipamento"
      ],
      "metadata": {
        "id": "Ttp0s5kIXgFY"
      }
    },
    {
      "cell_type": "code",
      "source": [
        "plt.figure(figsize=(15,6))\n",
        "sns.countplot(x=df[\"type\"])"
      ],
      "metadata": {
        "colab": {
          "base_uri": "https://localhost:8080/",
          "height": 408
        },
        "id": "OXPcn4q-XotJ",
        "outputId": "e9e07dbe-75ce-41eb-ef72-4b3c451939cb"
      },
      "execution_count": null,
      "outputs": [
        {
          "output_type": "execute_result",
          "data": {
            "text/plain": [
              "<matplotlib.axes._subplots.AxesSubplot at 0x7fb9156cd0d0>"
            ]
          },
          "metadata": {},
          "execution_count": 34
        },
        {
          "output_type": "display_data",
          "data": {
            "text/plain": [
              "<Figure size 1080x432 with 1 Axes>"
            ],
            "image/png": "[encoded data removed]"
          },
          "metadata": {}
        }
      ]
    },
    {
      "cell_type": "code",
      "source": [
        "dist = df['type'].value_counts(normalize = True)\n",
        "print(dist)"
      ],
      "metadata": {
        "colab": {
          "base_uri": "https://localhost:8080/"
        },
        "id": "pvSO0aqYX1WP",
        "outputId": "99357748-1fff-4b7a-f8b2-b84ea7f95146"
      },
      "execution_count": null,
      "outputs": [
        {
          "output_type": "stream",
          "name": "stdout",
          "text": [
            "L    0.603270\n",
            "M    0.298035\n",
            "H    0.098695\n",
            "Name: type, dtype: float64\n"
          ]
        }
      ]
    },
    {
      "cell_type": "markdown",
      "source": [
        "\n",
        "\n",
        "*   60% de produtos do tipo Low, 29% do tipo médio e menos de 10% do tipo alto"
      ],
      "metadata": {
        "id": "8K2eLjcXZqOf"
      }
    },
    {
      "cell_type": "code",
      "source": [
        "#Dividendo o dataset nos 3 tipos de qualidade das máquinas\n",
        "low=df.loc[df[\"type\"] == \"L\"]\n",
        "med=df.loc[df[\"type\"] == \"M\"]\n",
        "hig=df.loc[df[\"type\"] == \"H\"]"
      ],
      "metadata": {
        "id": "pxXe-0C3LwYW"
      },
      "execution_count": null,
      "outputs": []
    },
    {
      "cell_type": "code",
      "source": [
        "distl = low['failure_type'].value_counts(normalize = True)\n",
        "print(distl)"
      ],
      "metadata": {
        "colab": {
          "base_uri": "https://localhost:8080/"
        },
        "id": "-6BML2W9KzZ-",
        "outputId": "aa67f68c-1f92-408a-8f8c-4342ea1c9600"
      },
      "execution_count": null,
      "outputs": [
        {
          "output_type": "stream",
          "name": "stdout",
          "text": [
            "No Failure                  0.959970\n",
            "Overstrain Failure          0.012432\n",
            "Heat Dissipation Failure    0.011437\n",
            "Power Failure               0.009697\n",
            "Tool Wear Failure           0.004724\n",
            "Random Failures             0.001740\n",
            "Name: failure_type, dtype: float64\n"
          ]
        }
      ]
    },
    {
      "cell_type": "code",
      "source": [
        "distm = med['failure_type'].value_counts(normalize = True)\n",
        "print(distm)"
      ],
      "metadata": {
        "colab": {
          "base_uri": "https://localhost:8080/"
        },
        "id": "IUplJiv8NmY3",
        "outputId": "5573b542-726f-4d2f-fcf6-47b05ef915b7"
      },
      "execution_count": null,
      "outputs": [
        {
          "output_type": "stream",
          "name": "stdout",
          "text": [
            "No Failure                  0.972823\n",
            "Heat Dissipation Failure    0.011072\n",
            "Power Failure               0.010065\n",
            "Tool Wear Failure           0.005033\n",
            "Random Failures             0.000503\n",
            "Overstrain Failure          0.000503\n",
            "Name: failure_type, dtype: float64\n"
          ]
        }
      ]
    },
    {
      "cell_type": "code",
      "source": [
        "disth = hig['failure_type'].value_counts(normalize = True)\n",
        "print(disth)"
      ],
      "metadata": {
        "colab": {
          "base_uri": "https://localhost:8080/"
        },
        "id": "HzLk113_NmgW",
        "outputId": "a40fd6e9-fd1f-4691-ed19-6f1557f7470a"
      },
      "execution_count": null,
      "outputs": [
        {
          "output_type": "stream",
          "name": "stdout",
          "text": [
            "No Failure                  0.974164\n",
            "Heat Dissipation Failure    0.010638\n",
            "Power Failure               0.006079\n",
            "Random Failures             0.006079\n",
            "Overstrain Failure          0.001520\n",
            "Tool Wear Failure           0.001520\n",
            "Name: failure_type, dtype: float64\n"
          ]
        }
      ]
    },
    {
      "cell_type": "markdown",
      "source": [
        "*   Sem falhas do baixo é quase 96%.\n",
        "*   Do médio e alta qualidade passa ods 97%, sendo alta um pouco maior\n",
        "*   Como esperado, qualidade interfere nas falhas"
      ],
      "metadata": {
        "id": "lj-cXjiHpsg5"
      }
    },
    {
      "cell_type": "markdown",
      "source": [
        "## Temperatura do ar em Kelvin"
      ],
      "metadata": {
        "id": "oLoWD7adaQZ4"
      }
    },
    {
      "cell_type": "code",
      "source": [
        "df[\"air_temperature_k\"].describe()"
      ],
      "metadata": {
        "colab": {
          "base_uri": "https://localhost:8080/"
        },
        "id": "2ZWIOuLga2Mw",
        "outputId": "7746d4bb-f6b3-498a-be06-8fb991ce2e5c"
      },
      "execution_count": null,
      "outputs": [
        {
          "output_type": "execute_result",
          "data": {
            "text/plain": [
              "count    6667.000000\n",
              "mean      299.992515\n",
              "std         1.994710\n",
              "min       295.300000\n",
              "25%       298.300000\n",
              "50%       300.000000\n",
              "75%       301.500000\n",
              "max       304.500000\n",
              "Name: air_temperature_k, dtype: float64"
            ]
          },
          "metadata": {},
          "execution_count": 45
        }
      ]
    },
    {
      "cell_type": "markdown",
      "source": [
        "*   A váriavel temperatura do ar foi previamennte normalizada em torno de 300 kelvin com desvio padrão de 2 kelvin"
      ],
      "metadata": {
        "id": "Bs_5RqjPbE96"
      }
    },
    {
      "cell_type": "code",
      "source": [
        "plt.figure(figsize=(15,10))\n",
        "sns.histplot(x=df[\"air_temperature_k\"])"
      ],
      "metadata": {
        "colab": {
          "base_uri": "https://localhost:8080/",
          "height": 626
        },
        "id": "Mjm0O9MkbkuD",
        "outputId": "91c847da-ae2c-41e9-cd9b-db034c1589dd"
      },
      "execution_count": null,
      "outputs": [
        {
          "output_type": "execute_result",
          "data": {
            "text/plain": [
              "<matplotlib.axes._subplots.AxesSubplot at 0x7fb915394580>"
            ]
          },
          "metadata": {},
          "execution_count": 46
        },
        {
          "output_type": "display_data",
          "data": {
            "text/plain": [
              "<Figure size 1080x720 with 1 Axes>"
            ],
            "image/png": "[encoded data removed]"
          },
          "metadata": {}
        }
      ]
    },
    {
      "cell_type": "markdown",
      "source": [
        "*   A média está em torno de 300 kelvin que da em torno de 27 graus celsius"
      ],
      "metadata": {
        "id": "8dKRTeWmcRa5"
      }
    },
    {
      "cell_type": "code",
      "source": [
        "# Temperatura ambiente por tipo de falha \n",
        "plt.figure(figsize = (11,9))\n",
        "sns.boxplot(x=df[\"failure_type\"],y=df['air_temperature_k'])"
      ],
      "metadata": {
        "colab": {
          "base_uri": "https://localhost:8080/",
          "height": 571
        },
        "id": "1dSIwWPcDlKx",
        "outputId": "57b676cc-aa1b-46c2-c6cb-94ddbe8c325b"
      },
      "execution_count": null,
      "outputs": [
        {
          "output_type": "execute_result",
          "data": {
            "text/plain": [
              "<matplotlib.axes._subplots.AxesSubplot at 0x7fb911a86460>"
            ]
          },
          "metadata": {},
          "execution_count": 106
        },
        {
          "output_type": "display_data",
          "data": {
            "text/plain": [
              "<Figure size 792x648 with 1 Axes>"
            ],
            "image/png": "[encoded data removed]"
          },
          "metadata": {}
        }
      ]
    },
    {
      "cell_type": "markdown",
      "source": [
        "*   O boxplot de falha de energia tem certa semelhança com não falha, os outros tipos de falhas são bem diferentes"
      ],
      "metadata": {
        "id": "4GkSKMGsFze8"
      }
    },
    {
      "cell_type": "markdown",
      "source": [
        "## Temperatuda do processo em Kelvin"
      ],
      "metadata": {
        "id": "9olCVbpHeGcY"
      }
    },
    {
      "cell_type": "code",
      "source": [
        "df[\"process_temperature_k\"].describe()"
      ],
      "metadata": {
        "colab": {
          "base_uri": "https://localhost:8080/"
        },
        "id": "1jWNfJhQecn9",
        "outputId": "5bbcfa85-7ed5-4189-d76a-e8ccea42bc8d"
      },
      "execution_count": null,
      "outputs": [
        {
          "output_type": "execute_result",
          "data": {
            "text/plain": [
              "count    6667.000000\n",
              "mean      309.992620\n",
              "std         1.488101\n",
              "min       305.700000\n",
              "25%       308.800000\n",
              "50%       310.000000\n",
              "75%       311.100000\n",
              "max       313.800000\n",
              "Name: process_temperature_k, dtype: float64"
            ]
          },
          "metadata": {},
          "execution_count": 48
        }
      ]
    },
    {
      "cell_type": "code",
      "source": [
        "plt.figure(figsize=(15,10))\n",
        "sns.histplot(x=df[\"process_temperature_k\"])"
      ],
      "metadata": {
        "colab": {
          "base_uri": "https://localhost:8080/",
          "height": 626
        },
        "id": "p43j9pDJet7G",
        "outputId": "f9cbd839-d995-40d7-bd26-f61602030737"
      },
      "execution_count": null,
      "outputs": [
        {
          "output_type": "execute_result",
          "data": {
            "text/plain": [
              "<matplotlib.axes._subplots.AxesSubplot at 0x7fb9151c32e0>"
            ]
          },
          "metadata": {},
          "execution_count": 49
        },
        {
          "output_type": "display_data",
          "data": {
            "text/plain": [
              "<Figure size 1080x720 with 1 Axes>"
            ],
            "image/png": "[encoded data removed]"
          },
          "metadata": {}
        }
      ]
    },
    {
      "cell_type": "markdown",
      "source": [
        "*   A média de temperatura do processo está 10 kelvins a mais do que a tempratura do ar.\n",
        "*   A média está em torno de 310 kelvin que da em torno de 37 graus celsius"
      ],
      "metadata": {
        "id": "e9LZkKCze3LH"
      }
    },
    {
      "cell_type": "code",
      "source": [
        "# Temperatura do processo por tipo de falha \n",
        "plt.figure(figsize = (11,9))\n",
        "sns.boxplot(x=df[\"failure_type\"],y=df['process_temperature_k'])"
      ],
      "metadata": {
        "colab": {
          "base_uri": "https://localhost:8080/",
          "height": 571
        },
        "id": "duhIDGdZGb29",
        "outputId": "d1903f73-8b07-4a81-84e3-8877c242d27b"
      },
      "execution_count": null,
      "outputs": [
        {
          "output_type": "execute_result",
          "data": {
            "text/plain": [
              "<matplotlib.axes._subplots.AxesSubplot at 0x7fb91199a940>"
            ]
          },
          "metadata": {},
          "execution_count": 107
        },
        {
          "output_type": "display_data",
          "data": {
            "text/plain": [
              "<Figure size 792x648 with 1 Axes>"
            ],
            "image/png": "[encoded data removed]"
          },
          "metadata": {}
        }
      ]
    },
    {
      "cell_type": "markdown",
      "source": [
        "*   O boxplot de falha de energia tem certa semelhança com não falha, os outros tipos de falhas são bem diferentes "
      ],
      "metadata": {
        "id": "otndofsrGoRQ"
      }
    },
    {
      "cell_type": "markdown",
      "source": [
        "## Velocidade de rotação em RPM"
      ],
      "metadata": {
        "id": "WVXGupvee31y"
      }
    },
    {
      "cell_type": "code",
      "source": [
        "df[\"rotational_speed_rpm\"].describe()"
      ],
      "metadata": {
        "colab": {
          "base_uri": "https://localhost:8080/"
        },
        "id": "ZElk3A993Q7v",
        "outputId": "1eadd2be-b8ee-4f22-b7b8-f1f0dcb651f1"
      },
      "execution_count": null,
      "outputs": [
        {
          "output_type": "execute_result",
          "data": {
            "text/plain": [
              "count    6667.000000\n",
              "mean     1537.419529\n",
              "std       177.182908\n",
              "min      1168.000000\n",
              "25%      1422.500000\n",
              "50%      1503.000000\n",
              "75%      1612.000000\n",
              "max      2886.000000\n",
              "Name: rotational_speed_rpm, dtype: float64"
            ]
          },
          "metadata": {},
          "execution_count": 52
        }
      ]
    },
    {
      "cell_type": "code",
      "source": [
        "plt.figure(figsize=(12,10))\n",
        "sns.histplot(x=df[\"rotational_speed_rpm\"])"
      ],
      "metadata": {
        "colab": {
          "base_uri": "https://localhost:8080/",
          "height": 626
        },
        "id": "zmDuscghgFgI",
        "outputId": "78bd2f77-5c68-4950-dc01-fe2fa533623c"
      },
      "execution_count": null,
      "outputs": [
        {
          "output_type": "execute_result",
          "data": {
            "text/plain": [
              "<matplotlib.axes._subplots.AxesSubplot at 0x7fb915636a90>"
            ]
          },
          "metadata": {},
          "execution_count": 53
        },
        {
          "output_type": "display_data",
          "data": {
            "text/plain": [
              "<Figure size 864x720 with 1 Axes>"
            ],
            "image/png": "[encoded data removed]"
          },
          "metadata": {}
        }
      ]
    },
    {
      "cell_type": "markdown",
      "source": [
        "*   A média de rotação é de 1537\n",
        "*   Desvio padrão é 177\n",
        "*   Valor mínimo 1168. Valor máximo 2886\n",
        "*   Q1: 1422,5. Q3:1612\n",
        "*   Apresenta outlers"
      ],
      "metadata": {
        "id": "ZVnt3f5B3exC"
      }
    },
    {
      "cell_type": "code",
      "source": [
        "# Rotação por tipo de falha \n",
        "plt.figure(figsize = (11,9))\n",
        "sns.boxplot(x=df[\"failure_type\"],y=df['rotational_speed_rpm'])"
      ],
      "metadata": {
        "colab": {
          "base_uri": "https://localhost:8080/",
          "height": 571
        },
        "id": "4NecsIXOG0-v",
        "outputId": "48c8f29b-928d-4517-fab4-c86658497354"
      },
      "execution_count": null,
      "outputs": [
        {
          "output_type": "execute_result",
          "data": {
            "text/plain": [
              "<matplotlib.axes._subplots.AxesSubplot at 0x7fb91192bfd0>"
            ]
          },
          "metadata": {},
          "execution_count": 108
        },
        {
          "output_type": "display_data",
          "data": {
            "text/plain": [
              "<Figure size 792x648 with 1 Axes>"
            ],
            "image/png": "[encoded data removed]"
          },
          "metadata": {}
        }
      ]
    },
    {
      "cell_type": "markdown",
      "source": [
        "*   O boxplot dos vários tipos de falhas são diferentes quando não falha\n",
        "\n",
        "\n",
        "\n",
        "\n"
      ],
      "metadata": {
        "id": "x_YfdOu2HGvJ"
      }
    },
    {
      "cell_type": "markdown",
      "source": [
        "## Torque"
      ],
      "metadata": {
        "id": "bJ4cJU3g38fg"
      }
    },
    {
      "cell_type": "code",
      "source": [
        "df[\"torque_nm\"].describe()"
      ],
      "metadata": {
        "colab": {
          "base_uri": "https://localhost:8080/"
        },
        "id": "kospoHLs4SlZ",
        "outputId": "2c7e271f-a364-4f26-9648-32dc3d85c2fe"
      },
      "execution_count": null,
      "outputs": [
        {
          "output_type": "execute_result",
          "data": {
            "text/plain": [
              "count    6667.000000\n",
              "mean       40.058512\n",
              "std         9.950804\n",
              "min         3.800000\n",
              "25%        33.200000\n",
              "50%        40.200000\n",
              "75%        46.800000\n",
              "max        76.600000\n",
              "Name: torque_nm, dtype: float64"
            ]
          },
          "metadata": {},
          "execution_count": 55
        }
      ]
    },
    {
      "cell_type": "code",
      "source": [
        "plt.figure(figsize=(12,10))\n",
        "sns.histplot(x=df[\"torque_nm\"])"
      ],
      "metadata": {
        "colab": {
          "base_uri": "https://localhost:8080/",
          "height": 626
        },
        "id": "BQ9Qbs_i42Zq",
        "outputId": "d8cefb79-5eb8-4339-c0f2-b23049952532"
      },
      "execution_count": null,
      "outputs": [
        {
          "output_type": "execute_result",
          "data": {
            "text/plain": [
              "<matplotlib.axes._subplots.AxesSubplot at 0x7fb914d88340>"
            ]
          },
          "metadata": {},
          "execution_count": 56
        },
        {
          "output_type": "display_data",
          "data": {
            "text/plain": [
              "<Figure size 864x720 with 1 Axes>"
            ],
            "image/png": "[encoded data removed]"
          },
          "metadata": {}
        }
      ]
    },
    {
      "cell_type": "markdown",
      "source": [
        "*   A média do torque é 40\n",
        "*   Desvio padrão é 9,95\n",
        "\n"
      ],
      "metadata": {
        "id": "dan5Kof65cIY"
      }
    },
    {
      "cell_type": "code",
      "source": [
        "# Torque por tipo de falha \n",
        "plt.figure(figsize = (11,9))\n",
        "sns.boxplot(x=df[\"failure_type\"],y=df['torque_nm'])"
      ],
      "metadata": {
        "colab": {
          "base_uri": "https://localhost:8080/",
          "height": 574
        },
        "id": "8geTjjGsHZLd",
        "outputId": "59adc21b-2020-4800-ce47-1778ab921d5d"
      },
      "execution_count": null,
      "outputs": [
        {
          "output_type": "execute_result",
          "data": {
            "text/plain": [
              "<matplotlib.axes._subplots.AxesSubplot at 0x7fb91186c7c0>"
            ]
          },
          "metadata": {},
          "execution_count": 109
        },
        {
          "output_type": "display_data",
          "data": {
            "text/plain": [
              "<Figure size 792x648 with 1 Axes>"
            ],
            "image/png": "[encoded data removed]"
          },
          "metadata": {}
        }
      ]
    },
    {
      "cell_type": "markdown",
      "source": [
        "*   O boxplot dos vários tipos de falhas são diferentes quando não falha"
      ],
      "metadata": {
        "id": "zKaR4O5DqdPI"
      }
    },
    {
      "cell_type": "markdown",
      "source": [
        "## Desgaste das ferramentas em minutos "
      ],
      "metadata": {
        "id": "xjShmbns5kYz"
      }
    },
    {
      "cell_type": "code",
      "source": [
        "df[\"tool_wear_min\"].describe()"
      ],
      "metadata": {
        "colab": {
          "base_uri": "https://localhost:8080/"
        },
        "id": "fU666w9z5xxl",
        "outputId": "e3f47257-4f2c-4ed3-d793-a479da5897ff"
      },
      "execution_count": null,
      "outputs": [
        {
          "output_type": "execute_result",
          "data": {
            "text/plain": [
              "count    6667.000000\n",
              "mean      108.098095\n",
              "std        63.359915\n",
              "min         0.000000\n",
              "25%        54.000000\n",
              "50%       108.000000\n",
              "75%       162.000000\n",
              "max       251.000000\n",
              "Name: tool_wear_min, dtype: float64"
            ]
          },
          "metadata": {},
          "execution_count": 58
        }
      ]
    },
    {
      "cell_type": "code",
      "source": [
        "plt.figure(figsize=(12,10))\n",
        "sns.histplot(x=df[\"tool_wear_min\"])"
      ],
      "metadata": {
        "colab": {
          "base_uri": "https://localhost:8080/",
          "height": 626
        },
        "id": "ogaOoEqx6W_Z",
        "outputId": "4d3704da-3798-40ff-b22e-2099f3baa39f"
      },
      "execution_count": null,
      "outputs": [
        {
          "output_type": "execute_result",
          "data": {
            "text/plain": [
              "<matplotlib.axes._subplots.AxesSubplot at 0x7fb914c79130>"
            ]
          },
          "metadata": {},
          "execution_count": 59
        },
        {
          "output_type": "display_data",
          "data": {
            "text/plain": [
              "<Figure size 864x720 with 1 Axes>"
            ],
            "image/png": "[encoded data removed]"
          },
          "metadata": {}
        }
      ]
    },
    {
      "cell_type": "code",
      "source": [
        "# Torque  por tipo de falha \n",
        "plt.figure(figsize = (11,9))\n",
        "sns.boxplot(x=df[\"failure_type\"],y=df['tool_wear_min'])"
      ],
      "metadata": {
        "id": "GUWtDWs36gXc",
        "colab": {
          "base_uri": "https://localhost:8080/",
          "height": 571
        },
        "outputId": "e2f7be03-26bf-4891-e269-a4182b4ed41e"
      },
      "execution_count": null,
      "outputs": [
        {
          "output_type": "execute_result",
          "data": {
            "text/plain": [
              "<matplotlib.axes._subplots.AxesSubplot at 0x7fb91077f250>"
            ]
          },
          "metadata": {},
          "execution_count": 165
        },
        {
          "output_type": "display_data",
          "data": {
            "text/plain": [
              "<Figure size 792x648 with 1 Axes>"
            ],
            "image/png": "[encoded data removed]"
          },
          "metadata": {}
        }
      ]
    },
    {
      "cell_type": "markdown",
      "source": [
        "*   O boxplot de falha e falha por energia tem mediana parecidas mas Q1 e Q3 são diferentes. \n",
        "*   Falha de sobrecarga e falha por desgaste são bem diferentes do resto\n",
        "*   Falhas aleatórias e falha na dissipação de calor tem medianas diferntes de não falha"
      ],
      "metadata": {
        "id": "uwGUb0e9qglJ"
      }
    },
    {
      "cell_type": "markdown",
      "source": [
        "## Correlação das váriaveis "
      ],
      "metadata": {
        "id": "K9hnel-h6gw9"
      }
    },
    {
      "cell_type": "code",
      "source": [
        "dfcorr = df[[\"type\", \"air_temperature_k\",\"process_temperature_k\",\"rotational_speed_rpm\",\"torque_nm\",\"tool_wear_min\",\"failure_type\"]]"
      ],
      "metadata": {
        "id": "whc_ydlZ65aJ"
      },
      "execution_count": null,
      "outputs": []
    },
    {
      "cell_type": "code",
      "source": [
        "dfcorr.corr()"
      ],
      "metadata": {
        "colab": {
          "base_uri": "https://localhost:8080/",
          "height": 206
        },
        "id": "VWyzkF0n6-sB",
        "outputId": "ac81ba75-90b6-47f9-f9e3-59016394c8dd"
      },
      "execution_count": null,
      "outputs": [
        {
          "output_type": "execute_result",
          "data": {
            "text/plain": [
              "                       air_temperature_k  process_temperature_k  \\\n",
              "air_temperature_k               1.000000               0.875724   \n",
              "process_temperature_k           0.875724               1.000000   \n",
              "rotational_speed_rpm            0.035903               0.033379   \n",
              "torque_nm                      -0.023257              -0.024457   \n",
              "tool_wear_min                   0.021078               0.020298   \n",
              "\n",
              "                       rotational_speed_rpm  torque_nm  tool_wear_min  \n",
              "air_temperature_k                  0.035903  -0.023257       0.021078  \n",
              "process_temperature_k              0.033379  -0.024457       0.020298  \n",
              "rotational_speed_rpm               1.000000  -0.875989      -0.001290  \n",
              "torque_nm                         -0.875989   1.000000      -0.004343  \n",
              "tool_wear_min                     -0.001290  -0.004343       1.000000  "
            ],
            "text/html": [
              "\n",
              "  <div id=\"df-5c7aeb9e-8958-4200-9686-54323e922fc8\">\n",
              "    <div class=\"colab-df-container\">\n",
              "      <div>\n",
              "<style scoped>\n",
              "    .dataframe tbody tr th:only-of-type {\n",
              "        vertical-align: middle;\n",
              "    }\n",
              "\n",
              "    .dataframe tbody tr th {\n",
              "        vertical-align: top;\n",
              "    }\n",
              "\n",
              "    .dataframe thead th {\n",
              "        text-align: right;\n",
              "    }\n",
              "</style>\n",
              "<table border=\"1\" class=\"dataframe\">\n",
              "  <thead>\n",
              "    <tr style=\"text-align: right;\">\n",
              "      <th></th>\n",
              "      <th>air_temperature_k</th>\n",
              "      <th>process_temperature_k</th>\n",
              "      <th>rotational_speed_rpm</th>\n",
              "      <th>torque_nm</th>\n",
              "      <th>tool_wear_min</th>\n",
              "    </tr>\n",
              "  </thead>\n",
              "  <tbody>\n",
              "    <tr>\n",
              "      <th>air_temperature_k</th>\n",
              "      <td>1.000000</td>\n",
              "      <td>0.875724</td>\n",
              "      <td>0.035903</td>\n",
              "      <td>-0.023257</td>\n",
              "      <td>0.021078</td>\n",
              "    </tr>\n",
              "    <tr>\n",
              "      <th>process_temperature_k</th>\n",
              "      <td>0.875724</td>\n",
              "      <td>1.000000</td>\n",
              "      <td>0.033379</td>\n",
              "      <td>-0.024457</td>\n",
              "      <td>0.020298</td>\n",
              "    </tr>\n",
              "    <tr>\n",
              "      <th>rotational_speed_rpm</th>\n",
              "      <td>0.035903</td>\n",
              "      <td>0.033379</td>\n",
              "      <td>1.000000</td>\n",
              "      <td>-0.875989</td>\n",
              "      <td>-0.001290</td>\n",
              "    </tr>\n",
              "    <tr>\n",
              "      <th>torque_nm</th>\n",
              "      <td>-0.023257</td>\n",
              "      <td>-0.024457</td>\n",
              "      <td>-0.875989</td>\n",
              "      <td>1.000000</td>\n",
              "      <td>-0.004343</td>\n",
              "    </tr>\n",
              "    <tr>\n",
              "      <th>tool_wear_min</th>\n",
              "      <td>0.021078</td>\n",
              "      <td>0.020298</td>\n",
              "      <td>-0.001290</td>\n",
              "      <td>-0.004343</td>\n",
              "      <td>1.000000</td>\n",
              "    </tr>\n",
              "  </tbody>\n",
              "</table>\n",
              "</div>\n",
              "      <button class=\"colab-df-convert\" onclick=\"convertToInteractive('df-5c7aeb9e-8958-4200-9686-54323e922fc8')\"\n",
              "              title=\"Convert this dataframe to an interactive table.\"\n",
              "              style=\"display:none;\">\n",
              "        \n",
              "  <svg xmlns=\"http://www.w3.org/2000/svg\" height=\"24px\"viewBox=\"0 0 24 24\"\n",
              "       width=\"24px\">\n",
              "    <path d=\"M0 0h24v24H0V0z\" fill=\"none\"/>\n",
              "    <path d=\"M18.56 5.44l.94 2.06.94-2.06 2.06-.94-2.06-.94-.94-2.06-.94 2.06-2.06.94zm-11 1L8.5 8.5l.94-2.06 2.06-.94-2.06-.94L8.5 2.5l-.94 2.06-2.06.94zm10 10l.94 2.06.94-2.06 2.06-.94-2.06-.94-.94-2.06-.94 2.06-2.06.94z\"/><path d=\"M17.41 7.96l-1.37-1.37c-.4-.4-.92-.59-1.43-.59-.52 0-1.04.2-1.43.59L10.3 9.45l-7.72 7.72c-.78.78-.78 2.05 0 2.83L4 21.41c.39.39.9.59 1.41.59.51 0 1.02-.2 1.41-.59l7.78-7.78 2.81-2.81c.8-.78.8-2.07 0-2.86zM5.41 20L4 18.59l7.72-7.72 1.47 1.35L5.41 20z\"/>\n",
              "  </svg>\n",
              "      </button>\n",
              "      \n",
              "  <style>\n",
              "    .colab-df-container {\n",
              "      display:flex;\n",
              "      flex-wrap:wrap;\n",
              "      gap: 12px;\n",
              "    }\n",
              "\n",
              "    .colab-df-convert {\n",
              "      background-color: #E8F0FE;\n",
              "      border: none;\n",
              "      border-radius: 50%;\n",
              "      cursor: pointer;\n",
              "      display: none;\n",
              "      fill: #1967D2;\n",
              "      height: 32px;\n",
              "      padding: 0 0 0 0;\n",
              "      width: 32px;\n",
              "    }\n",
              "\n",
              "    .colab-df-convert:hover {\n",
              "      background-color: #E2EBFA;\n",
              "      box-shadow: 0px 1px 2px rgba(60, 64, 67, 0.3), 0px 1px 3px 1px rgba(60, 64, 67, 0.15);\n",
              "      fill: #174EA6;\n",
              "    }\n",
              "\n",
              "    [theme=dark] .colab-df-convert {\n",
              "      background-color: #3B4455;\n",
              "      fill: #D2E3FC;\n",
              "    }\n",
              "\n",
              "    [theme=dark] .colab-df-convert:hover {\n",
              "      background-color: #434B5C;\n",
              "      box-shadow: 0px 1px 3px 1px rgba(0, 0, 0, 0.15);\n",
              "      filter: drop-shadow(0px 1px 2px rgba(0, 0, 0, 0.3));\n",
              "      fill: #FFFFFF;\n",
              "    }\n",
              "  </style>\n",
              "\n",
              "      <script>\n",
              "        const buttonEl =\n",
              "          document.querySelector('#df-5c7aeb9e-8958-4200-9686-54323e922fc8 button.colab-df-convert');\n",
              "        buttonEl.style.display =\n",
              "          google.colab.kernel.accessAllowed ? 'block' : 'none';\n",
              "\n",
              "        async function convertToInteractive(key) {\n",
              "          const element = document.querySelector('#df-5c7aeb9e-8958-4200-9686-54323e922fc8');\n",
              "          const dataTable =\n",
              "            await google.colab.kernel.invokeFunction('convertToInteractive',\n",
              "                                                     [key], {});\n",
              "          if (!dataTable) return;\n",
              "\n",
              "          const docLinkHtml = 'Like what you see? Visit the ' +\n",
              "            '<a target=\"_blank\" href=https://colab.research.google.com/notebooks/data_table.ipynb>data table notebook</a>'\n",
              "            + ' to learn more about interactive tables.';\n",
              "          element.innerHTML = '';\n",
              "          dataTable['output_type'] = 'display_data';\n",
              "          await google.colab.output.renderOutput(dataTable, element);\n",
              "          const docLink = document.createElement('div');\n",
              "          docLink.innerHTML = docLinkHtml;\n",
              "          element.appendChild(docLink);\n",
              "        }\n",
              "      </script>\n",
              "    </div>\n",
              "  </div>\n",
              "  "
            ]
          },
          "metadata": {},
          "execution_count": 79
        }
      ]
    },
    {
      "cell_type": "code",
      "source": [
        "plt.figure(figsize = (15,5))\n",
        "ax = sns.heatmap(dfcorr.corr()) "
      ],
      "metadata": {
        "colab": {
          "base_uri": "https://localhost:8080/",
          "height": 325
        },
        "id": "PqdzBoDn8Mza",
        "outputId": "b486ff47-7fdb-4322-8835-e5d14886586f"
      },
      "execution_count": null,
      "outputs": [
        {
          "output_type": "display_data",
          "data": {
            "text/plain": [
              "<Figure size 1080x360 with 2 Axes>"
            ],
            "image/png": "[encoded data removed]"
          },
          "metadata": {}
        }
      ]
    },
    {
      "cell_type": "markdown",
      "source": [
        "\n",
        "*   Temperatura ambiente e do processso tem forte correlação positiva \n",
        "*   velocidade de rotação e torque tem forte correação negativa\n"
      ],
      "metadata": {
        "id": "UBbBzKlb80HE"
      }
    },
    {
      "cell_type": "markdown",
      "source": [
        "# Considerações finais "
      ],
      "metadata": {
        "id": "Rw6B49DPxnkS"
      }
    },
    {
      "cell_type": "markdown",
      "source": [
        "\n",
        "*   As váriaveis mostraram que geram impacto nas falhas das máquinas\n",
        "*   udi e product_id são identificadores únicos e não foram analisados por esse motivo\n",
        "*  As temperaturas tem correlação forte, como esperado\n",
        "*   velocidade de rotação e torque tem forte correação negativa"
      ],
      "metadata": {
        "id": "td8w2M0MxqiH"
      }
    }
  ]
}